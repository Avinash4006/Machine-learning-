{
 "cells": [
  {
   "cell_type": "code",
   "execution_count": 2,
   "id": "59dccc14",
   "metadata": {},
   "outputs": [
    {
     "name": "stdout",
     "output_type": "stream",
     "text": [
      "Correct prediction: versicolor\n",
      "Correct prediction: setosa\n",
      "Correct prediction: virginica\n",
      "Correct prediction: versicolor\n",
      "Correct prediction: versicolor\n",
      "Correct prediction: setosa\n",
      "Correct prediction: versicolor\n",
      "Correct prediction: virginica\n",
      "Correct prediction: versicolor\n",
      "Correct prediction: versicolor\n",
      "Correct prediction: virginica\n",
      "Correct prediction: setosa\n",
      "Correct prediction: setosa\n",
      "Correct prediction: setosa\n",
      "Correct prediction: setosa\n",
      "Correct prediction: versicolor\n",
      "Correct prediction: virginica\n",
      "Correct prediction: versicolor\n",
      "Correct prediction: versicolor\n",
      "Correct prediction: virginica\n",
      "Correct prediction: setosa\n",
      "Correct prediction: virginica\n",
      "Correct prediction: setosa\n",
      "Correct prediction: virginica\n",
      "Correct prediction: virginica\n",
      "Correct prediction: virginica\n",
      "Correct prediction: virginica\n",
      "Correct prediction: virginica\n",
      "Correct prediction: setosa\n",
      "Correct prediction: setosa\n",
      "Correct prediction: setosa\n",
      "Correct prediction: setosa\n",
      "Correct prediction: versicolor\n",
      "Correct prediction: setosa\n",
      "Correct prediction: setosa\n",
      "Correct prediction: virginica\n",
      "Correct prediction: versicolor\n",
      "Correct prediction: setosa\n",
      "Correct prediction: setosa\n",
      "Correct prediction: setosa\n",
      "Correct prediction: virginica\n",
      "Correct prediction: versicolor\n",
      "Correct prediction: versicolor\n",
      "Correct prediction: setosa\n",
      "Correct prediction: setosa\n"
     ]
    },
    {
     "name": "stderr",
     "output_type": "stream",
     "text": [
      "C:\\Users\\Lenovo\\anaconda3\\lib\\site-packages\\sklearn\\neighbors\\_classification.py:228: FutureWarning: Unlike other reduction functions (e.g. `skew`, `kurtosis`), the default behavior of `mode` typically preserves the axis it acts along. In SciPy 1.11.0, this behavior will change: the default value of `keepdims` will become False, the `axis` over which the statistic is taken will be eliminated, and the value None will no longer be accepted. Set `keepdims` to True or False to avoid this warning.\n",
      "  mode, _ = stats.mode(_y[neigh_ind, k], axis=1)\n"
     ]
    }
   ],
   "source": [
    "import numpy as np\n",
    "from sklearn.datasets import load_iris\n",
    "from sklearn.model_selection import train_test_split\n",
    "from sklearn.neighbors import KNeighborsClassifier\n",
    "\n",
    "iris = load_iris()\n",
    "X = iris.data\n",
    "y = iris.target\n",
    "\n",
    "X_train, X_test, y_train, y_test = train_test_split(X, y, test_size=0.3, random_state=42)\n",
    "\n",
    "knn = KNeighborsClassifier(n_neighbors=3)\n",
    "\n",
    "knn.fit(X_train, y_train)\n",
    "\n",
    "y_pred = knn.predict(X_test)\n",
    "\n",
    "for i in range(len(y_pred)):\n",
    "    if y_pred[i] == y_test[i]:\n",
    "        print(f\"Correct prediction: {iris.target_names[y_pred[i]]}\")\n",
    "    else:\n",
    "        print(f\"Wrong prediction: Predicted {iris.target_names[y_pred[i]]}, but actual value is {iris.target_names[y_test[i]]}\")\n"
   ]
  },
  {
   "cell_type": "code",
   "execution_count": null,
   "id": "92335e63",
   "metadata": {},
   "outputs": [],
   "source": []
  }
 ],
 "metadata": {
  "kernelspec": {
   "display_name": "Python 3 (ipykernel)",
   "language": "python",
   "name": "python3"
  },
  "language_info": {
   "codemirror_mode": {
    "name": "ipython",
    "version": 3
   },
   "file_extension": ".py",
   "mimetype": "text/x-python",
   "name": "python",
   "nbconvert_exporter": "python",
   "pygments_lexer": "ipython3",
   "version": "3.9.13"
  }
 },
 "nbformat": 4,
 "nbformat_minor": 5
}
